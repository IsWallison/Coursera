{
  "nbformat": 4,
  "nbformat_minor": 0,
  "metadata": {
    "colab": {
      "provenance": [],
      "authorship_tag": "ABX9TyNeEK0tLRyR4wRRkOtHbNwx",
      "include_colab_link": true
    },
    "kernelspec": {
      "name": "python3",
      "display_name": "Python 3"
    },
    "language_info": {
      "name": "python"
    }
  },
  "cells": [
    {
      "cell_type": "markdown",
      "metadata": {
        "id": "view-in-github",
        "colab_type": "text"
      },
      "source": [
        "<a href=\"https://colab.research.google.com/github/IsWallison/Coursera/blob/main/Coursera.ipynb\" target=\"_parent\"><img src=\"https://colab.research.google.com/assets/colab-badge.svg\" alt=\"Open In Colab\"/></a>"
      ]
    },
    {
      "cell_type": "markdown",
      "source": [
        "Title of the notebook: Coursera\n",
        "\n"
      ],
      "metadata": {
        "id": "dzurnDKxR8-v"
      }
    },
    {
      "cell_type": "markdown",
      "source": [
        "introduction: Submit Your Work and Grade Your Peers\n"
      ],
      "metadata": {
        "id": "LkF2lmpLSMHw"
      }
    },
    {
      "cell_type": "markdown",
      "source": [
        "data science languages : Python,\n",
        "R,\n",
        "SQL,\n",
        "Java,\n",
        "Julia. "
      ],
      "metadata": {
        "id": "k7Nu06A3SPHh"
      }
    },
    {
      "cell_type": "markdown",
      "source": [
        "data science libraries: TensorFlow,\n",
        "NumPy,\n",
        "SciPy ,\n",
        "Pandas,\n",
        "Matplotlib, \n",
        "Keras,\n",
        "SciKit-Learn,\n",
        "PyTorch"
      ],
      "metadata": {
        "id": "_AjuJ3SuSgjx"
      }
    },
    {
      "cell_type": "code",
      "source": [
        "x = 5 * 2 + 3"
      ],
      "metadata": {
        "id": "9dcSq9B2SItb"
      },
      "execution_count": 1,
      "outputs": []
    },
    {
      "cell_type": "code",
      "source": [
        "minutes = 120\n",
        "hour = minutes/60\n",
        "hour"
      ],
      "metadata": {
        "colab": {
          "base_uri": "https://localhost:8080/"
        },
        "id": "MiBLJA2IS6hT",
        "outputId": "43e87cd1-f7f3-4397-893c-f024b3abac83"
      },
      "execution_count": 3,
      "outputs": [
        {
          "output_type": "execute_result",
          "data": {
            "text/plain": [
              "2.0"
            ]
          },
          "metadata": {},
          "execution_count": 3
        }
      ]
    },
    {
      "cell_type": "markdown",
      "source": [
        "Objectives"
      ],
      "metadata": {
        "id": "3KJHfT9yTSpo"
      }
    },
    {
      "cell_type": "markdown",
      "source": [
        " Author’s name: Wallison Borges"
      ],
      "metadata": {
        "id": "jFOTKXvbTVJH"
      }
    },
    {
      "cell_type": "code",
      "source": [],
      "metadata": {
        "id": "pMOx6a17TJuK"
      },
      "execution_count": null,
      "outputs": []
    }
  ]
}