{
  "nbformat": 4,
  "nbformat_minor": 0,
  "metadata": {
    "colab": {
      "provenance": [],
      "authorship_tag": "ABX9TyNHvBiLekfzAPlKwMmVuoAY",
      "include_colab_link": true
    },
    "kernelspec": {
      "name": "python3",
      "display_name": "Python 3"
    },
    "language_info": {
      "name": "python"
    }
  },
  "cells": [
    {
      "cell_type": "markdown",
      "metadata": {
        "id": "view-in-github",
        "colab_type": "text"
      },
      "source": [
        "<a href=\"https://colab.research.google.com/github/IsWallison/Coursera/blob/main/Coursera.ipynb\" target=\"_parent\"><img src=\"https://colab.research.google.com/assets/colab-badge.svg\" alt=\"Open In Colab\"/></a>"
      ]
    },
    {
      "cell_type": "markdown",
      "source": [
        "# Title of the notebook: \n",
        "###Data Science Tools and Ecosystem\n",
        "\n"
      ],
      "metadata": {
        "id": "dzurnDKxR8-v"
      }
    },
    {
      "cell_type": "markdown",
      "source": [
        "#introduction: \n",
        "##Submit Your Work and Grade Your Peers\n"
      ],
      "metadata": {
        "id": "LkF2lmpLSMHw"
      }
    },
    {
      "cell_type": "markdown",
      "source": [
        "#Data science languages: \n",
        "\n",
        "##Python\n",
        "\n",
        "##R\n",
        "\n",
        "##SQL\n",
        "\n",
        "##Java\n",
        "\n",
        "##Julia."
      ],
      "metadata": {
        "id": "k7Nu06A3SPHh"
      }
    },
    {
      "cell_type": "markdown",
      "source": [
        "#data science libraries:\n",
        "1. Pandas\n",
        "\n",
        "2. NumPy\n",
        "\n",
        "3. Matplotlib\n",
        "\n",
        "4. Seaborn\n",
        "\n",
        "5. SciKit-Learn\n",
        "\n",
        "6. Keras\n",
        "\n",
        "7. TensorFlow\n",
        "\n",
        "8. PyTorch\n",
        "\n",
        "9. Apache Spark\n",
        "\n",
        "10. Vegas\n",
        "\n",
        "11. Big DL\n",
        "\n",
        "12. Ggplot2\n",
        " \n",
        "\n",
        "\n"
      ],
      "metadata": {
        "id": "_AjuJ3SuSgjx"
      }
    },
    {
      "cell_type": "markdown",
      "source": [
        "# table of Data Science tools\n",
        "- | Data Science Tools\n",
        "----| ---\n",
        "1 | Anaconda\n",
        "2 | Jupyter Notebooks\n",
        "3 |R Studio\n",
        "4 | Spyder\n",
        "5 | Zeppelin"
      ],
      "metadata": {
        "id": "ckpVk9hbxFi_"
      }
    },
    {
      "cell_type": "markdown",
      "source": [
        "#introducing arithmetic expression examples"
      ],
      "metadata": {
        "id": "zFUAXnRQYAWq"
      }
    },
    {
      "cell_type": "code",
      "source": [
        "#code cell to multiply and add numbers\n",
        "(5 * 2) + 3"
      ],
      "metadata": {
        "id": "9dcSq9B2SItb",
        "outputId": "44ab059c-6923-4891-c8e0-460159f57413",
        "colab": {
          "base_uri": "https://localhost:8080/"
        }
      },
      "execution_count": null,
      "outputs": [
        {
          "output_type": "execute_result",
          "data": {
            "text/plain": [
              "13"
            ]
          },
          "metadata": {},
          "execution_count": 6
        }
      ]
    },
    {
      "cell_type": "code",
      "source": [
        "#this CODE will convert 120 minutes to hour by dividing by 60\n",
        "\n",
        "120//60"
      ],
      "metadata": {
        "colab": {
          "base_uri": "https://localhost:8080/"
        },
        "id": "MiBLJA2IS6hT",
        "outputId": "6726f7e2-0c7c-4ab9-f480-54c2000eb700"
      },
      "execution_count": 1,
      "outputs": [
        {
          "output_type": "execute_result",
          "data": {
            "text/plain": [
              "2"
            ]
          },
          "metadata": {},
          "execution_count": 1
        }
      ]
    },
    {
      "cell_type": "markdown",
      "source": [
        "#Objectives:\n",
        "##Objective A\n",
        "##Objective B\n",
        "##Objective C\n",
        "##Objective D\n"
      ],
      "metadata": {
        "id": "3KJHfT9yTSpo"
      }
    },
    {
      "cell_type": "markdown",
      "source": [
        "#Author’s name:\n",
        "Wallison Borges"
      ],
      "metadata": {
        "id": "jFOTKXvbTVJH"
      }
    },
    {
      "cell_type": "code",
      "source": [],
      "metadata": {
        "id": "pMOx6a17TJuK"
      },
      "execution_count": null,
      "outputs": []
    }
  ]
}